{
 "cells": [
  {
   "cell_type": "markdown",
   "id": "16ac6331",
   "metadata": {},
   "source": [
    "# Numpy Array"
   ]
  },
  {
   "cell_type": "code",
   "execution_count": 1,
   "id": "a77a5f74",
   "metadata": {},
   "outputs": [
    {
     "name": "stdout",
     "output_type": "stream",
     "text": [
      "[1 2 3 4]\n",
      "<class 'numpy.ndarray'>\n"
     ]
    }
   ],
   "source": [
    "import numpy as np\n",
    "x = np.array([1,2,3,4])\n",
    "print(x)\n",
    "print(type(x))"
   ]
  },
  {
   "cell_type": "code",
   "execution_count": 2,
   "id": "7af4127b",
   "metadata": {},
   "outputs": [
    {
     "name": "stdout",
     "output_type": "stream",
     "text": [
      "[1, 2, 3, 4]\n",
      "<class 'list'>\n"
     ]
    }
   ],
   "source": [
    "y = [1,2,3,4]\n",
    "print(y)\n",
    "print(type(y))"
   ]
  },
  {
   "cell_type": "code",
   "execution_count": 3,
   "id": "b02a6eba",
   "metadata": {},
   "outputs": [],
   "source": [
    "l = []\n",
    "for i in range(1,5):\n",
    "    x = int(input(f\"Enter element no {i}\"))\n",
    "    l.append(x)\n",
    "arr = np.array(l)\n"
   ]
  },
  {
   "cell_type": "markdown",
   "id": "935310a9",
   "metadata": {},
   "source": [
    "# ndim function"
   ]
  },
  {
   "cell_type": "code",
   "execution_count": 4,
   "id": "81661e8e",
   "metadata": {},
   "outputs": [
    {
     "name": "stdout",
     "output_type": "stream",
     "text": [
      "1\n"
     ]
    }
   ],
   "source": [
    "print(arr.ndim) # It tells the dimension of an array "
   ]
  },
  {
   "cell_type": "markdown",
   "id": "524fb9f4",
   "metadata": {},
   "source": [
    "# 2D array"
   ]
  },
  {
   "cell_type": "code",
   "execution_count": 5,
   "id": "f248d1cc",
   "metadata": {},
   "outputs": [
    {
     "name": "stdout",
     "output_type": "stream",
     "text": [
      "[[1 2 3]\n",
      " [4 5 6]]\n",
      "2\n"
     ]
    }
   ],
   "source": [
    "ar2 = np.array([[1,2,3],[4,5,6]])\n",
    "print(ar2)\n",
    "print(ar2.ndim) # 2 dimension array"
   ]
  },
  {
   "cell_type": "markdown",
   "id": "86a7ead6",
   "metadata": {},
   "source": [
    "# 3D array "
   ]
  },
  {
   "cell_type": "code",
   "execution_count": 6,
   "id": "b86e6873",
   "metadata": {},
   "outputs": [
    {
     "name": "stdout",
     "output_type": "stream",
     "text": [
      "[[[1 2 3]\n",
      "  [4 5 6]\n",
      "  [7 8 9]]]\n",
      "3\n"
     ]
    }
   ],
   "source": [
    "ar3 = np.array([[[1,2,3],[4,5,6],[7,8,9]]])\n",
    "print(ar3)\n",
    "print(ar3.ndim)"
   ]
  },
  {
   "cell_type": "markdown",
   "id": "f5baeb9c",
   "metadata": {},
   "source": [
    "# n-dimensional array "
   ]
  },
  {
   "cell_type": "code",
   "execution_count": 7,
   "id": "5a9d0d77",
   "metadata": {},
   "outputs": [
    {
     "name": "stdout",
     "output_type": "stream",
     "text": [
      "[[[[[[[[[[1 2 3]]]]]]]]]]\n",
      "10\n"
     ]
    }
   ],
   "source": [
    "ndarr = np.array([1,2,3],ndmin=10)\n",
    "print(ndarr)\n",
    "print(ndarr.ndim)"
   ]
  },
  {
   "cell_type": "markdown",
   "id": "86c174c1",
   "metadata": {},
   "source": [
    "# Range(By sing arange() Function)\n"
   ]
  },
  {
   "cell_type": "code",
   "execution_count": 8,
   "id": "74429465",
   "metadata": {},
   "outputs": [
    {
     "name": "stdout",
     "output_type": "stream",
     "text": [
      "[0 1 2 3 4 5 6 7 8 9]\n"
     ]
    }
   ],
   "source": [
    "ar_zero  = np.arange(10)\n",
    "print(ar_zero) # It creates an array that contains elements from zero to 9 "
   ]
  }
 ],
 "metadata": {
  "kernelspec": {
   "display_name": "Python 3",
   "language": "python",
   "name": "python3"
  },
  "language_info": {
   "codemirror_mode": {
    "name": "ipython",
    "version": 3
   },
   "file_extension": ".py",
   "mimetype": "text/x-python",
   "name": "python",
   "nbconvert_exporter": "python",
   "pygments_lexer": "ipython3",
   "version": "3.13.3"
  }
 },
 "nbformat": 4,
 "nbformat_minor": 5
}
