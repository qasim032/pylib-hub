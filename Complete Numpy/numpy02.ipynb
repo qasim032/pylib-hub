{
 "cells": [
  {
   "cell_type": "markdown",
   "id": "77e3c36a",
   "metadata": {},
   "source": [
    "# Special Types array:-"
   ]
  },
  {
   "cell_type": "markdown",
   "id": "b7519969",
   "metadata": {},
   "source": [
    "# Zeros"
   ]
  },
  {
   "cell_type": "code",
   "execution_count": null,
   "id": "47646836",
   "metadata": {},
   "outputs": [],
   "source": [
    "import numpy as np"
   ]
  },
  {
   "cell_type": "code",
   "execution_count": null,
   "id": "b54bd825",
   "metadata": {},
   "outputs": [],
   "source": [
    "# arr_zero = np.array(np.zeros(10),ndmin=3)\n",
    "arr_zero = np.zeros(3) # createss 1D array with three zeros\n",
    "print(arr_zero,\"\\n\") # [0. 0. 0.]\n",
    "\n",
    "#Changing the dimension \n",
    "arr_zero_nd = np.zeros((3,4)) #2d array \n",
    "print(arr_zero_nd)"
   ]
  },
  {
   "cell_type": "markdown",
   "id": "416e4774",
   "metadata": {},
   "source": [
    "# Ones"
   ]
  },
  {
   "cell_type": "code",
   "execution_count": null,
   "id": "3138a1a0",
   "metadata": {},
   "outputs": [],
   "source": [
    "arr_ones = np.ones((3,4))\n",
    "print(arr_ones)"
   ]
  },
  {
   "cell_type": "markdown",
   "id": "788ea45a",
   "metadata": {},
   "source": [
    "# Creating An empty array"
   ]
  },
  {
   "cell_type": "code",
   "execution_count": null,
   "id": "9ba8737f",
   "metadata": {},
   "outputs": [],
   "source": [
    "arr_emp = np.empty(4)\n",
    "print(arr_emp)\n",
    "print(arr_emp.ndim)"
   ]
  },
  {
   "cell_type": "markdown",
   "id": "04711ece",
   "metadata": {},
   "source": [
    "# Diagonal"
   ]
  },
  {
   "cell_type": "code",
   "execution_count": null,
   "id": "dec8b9e0",
   "metadata": {},
   "outputs": [],
   "source": [
    "ar_dia = np.eye(3)\n",
    "print(ar_dia)"
   ]
  }
 ],
 "metadata": {
  "kernelspec": {
   "display_name": "Python 3",
   "language": "python",
   "name": "python3"
  },
  "language_info": {
   "codemirror_mode": {
    "name": "ipython",
    "version": 3
   },
   "file_extension": ".py",
   "mimetype": "text/x-python",
   "name": "python",
   "nbconvert_exporter": "python",
   "pygments_lexer": "ipython3",
   "version": "3.13.3"
  }
 },
 "nbformat": 4,
 "nbformat_minor": 5
}
