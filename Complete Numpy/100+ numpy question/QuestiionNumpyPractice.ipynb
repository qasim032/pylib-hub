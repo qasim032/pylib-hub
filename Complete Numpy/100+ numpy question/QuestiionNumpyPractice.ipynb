{
 "cells": [
  {
   "cell_type": "code",
   "execution_count": 1,
   "id": "6fa4589a",
   "metadata": {},
   "outputs": [],
   "source": [
    "import numpy as np"
   ]
  },
  {
   "cell_type": "code",
   "execution_count": 2,
   "id": "82f55d51",
   "metadata": {},
   "outputs": [
    {
     "data": {
      "text/plain": [
       "array([[0., 0., 0.],\n",
       "       [0., 0., 0.]])"
      ]
     },
     "execution_count": 2,
     "metadata": {},
     "output_type": "execute_result"
    }
   ],
   "source": [
    "#Create a Numpy array filled with all zeros\n",
    "zero = np.zeros((2,3))\n",
    "zero"
   ]
  },
  {
   "cell_type": "code",
   "execution_count": 3,
   "id": "13d28557",
   "metadata": {},
   "outputs": [
    {
     "data": {
      "text/plain": [
       "array([[1., 1., 1.],\n",
       "       [1., 1., 1.]])"
      ]
     },
     "execution_count": 3,
     "metadata": {},
     "output_type": "execute_result"
    }
   ],
   "source": [
    "# Create a Numpy array filled with all ones\n",
    "one = np.ones((2,3))\n",
    "one"
   ]
  },
  {
   "cell_type": "code",
   "execution_count": null,
   "id": "f5209a69",
   "metadata": {},
   "outputs": [
    {
     "name": "stdout",
     "output_type": "stream",
     "text": [
      "[[ 1  2  3  4  5]\n",
      " [ 6  7  8  9 10]\n",
      " [11 12 13 14 15]\n",
      " [16 17 18 19 20]]\n",
      "\n",
      "True\n",
      "False\n"
     ]
    }
   ],
   "source": [
    "# Check whether a Numpy array contains a specified row\n",
    "arr = np.arange(1,21).reshape(4,5)\n",
    "print(arr)\n",
    "print()\n",
    "print([1,2,3,4,5] in arr)\n",
    "print([1,3,3,4,5] in arr.tolist())"
   ]
  },
  {
   "cell_type": "code",
   "execution_count": null,
   "id": "2e6ba146",
   "metadata": {},
   "outputs": [
    {
     "name": "stdout",
     "output_type": "stream",
     "text": [
      "True\n",
      "False\n"
     ]
    }
   ],
   "source": [
    "# How to check whether specified values are present in NumPy array?\n",
    "n_array = np.array([[2, 3, 0],[4, 1, 6]])\n",
    "print(2 in n_array)\n",
    "print(5 in n_array)"
   ]
  },
  {
   "cell_type": "code",
   "execution_count": null,
   "id": "8d7f0379",
   "metadata": {},
   "outputs": [
    {
     "name": "stdout",
     "output_type": "stream",
     "text": [
      "[[0 3 2]\n",
      " [6 1 4]]\n"
     ]
    }
   ],
   "source": [
    "# Reverse a numpy array\n",
    "print(n_array[[0,1],::-1])"
   ]
  },
  {
   "cell_type": "code",
   "execution_count": null,
   "id": "94243296",
   "metadata": {},
   "outputs": [],
   "source": []
  },
  {
   "cell_type": "code",
   "execution_count": null,
   "id": "64c42b20",
   "metadata": {},
   "outputs": [],
   "source": []
  },
  {
   "cell_type": "code",
   "execution_count": null,
   "id": "1d4bb763",
   "metadata": {},
   "outputs": [],
   "source": []
  }
 ],
 "metadata": {
  "kernelspec": {
   "display_name": "Python 3",
   "language": "python",
   "name": "python3"
  },
  "language_info": {
   "codemirror_mode": {
    "name": "ipython",
    "version": 3
   },
   "file_extension": ".py",
   "mimetype": "text/x-python",
   "name": "python",
   "nbconvert_exporter": "python",
   "pygments_lexer": "ipython3",
   "version": "3.11.0"
  }
 },
 "nbformat": 4,
 "nbformat_minor": 5
}
