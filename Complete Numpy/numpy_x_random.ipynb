{
 "cells": [
  {
   "cell_type": "markdown",
   "id": "3223c8e5",
   "metadata": {},
   "source": [
    "# Numpy_random"
   ]
  },
  {
   "cell_type": "code",
   "execution_count": 2,
   "id": "339f5cf0",
   "metadata": {},
   "outputs": [],
   "source": [
    "import numpy as np"
   ]
  },
  {
   "cell_type": "markdown",
   "id": "11280b8f",
   "metadata": {},
   "source": [
    "# rand"
   ]
  },
  {
   "cell_type": "code",
   "execution_count": 3,
   "id": "948f5b97",
   "metadata": {},
   "outputs": [
    {
     "name": "stdout",
     "output_type": "stream",
     "text": [
      "[[0.75349554 0.09073681]\n",
      " [0.7069152  0.37961919]]\n"
     ]
    }
   ],
   "source": [
    "var=np.random.rand(2,2) # The function rand generates the random numbers b\\w 0-1\n",
    "print(var)"
   ]
  },
  {
   "cell_type": "markdown",
   "id": "828b206f",
   "metadata": {},
   "source": [
    "# randn"
   ]
  },
  {
   "cell_type": "code",
   "execution_count": 16,
   "id": "f38c1adb",
   "metadata": {},
   "outputs": [
    {
     "name": "stdout",
     "output_type": "stream",
     "text": [
      "[[-0.26745662 -1.83589309]\n",
      " [ 0.26372479  1.42044658]]\n"
     ]
    }
   ],
   "source": [
    "var2 = np.random.randn(2,2) #The function rand generates the random numbers b\\w 0-1 in both -ve and +ve\n",
    "print(var2)"
   ]
  },
  {
   "cell_type": "markdown",
   "id": "f6a5efaf",
   "metadata": {},
   "source": [
    "# ranf"
   ]
  },
  {
   "cell_type": "code",
   "execution_count": 11,
   "id": "d5885286",
   "metadata": {},
   "outputs": [
    {
     "name": "stdout",
     "output_type": "stream",
     "text": [
      "[0.88169512 0.35262943 0.54371345 0.12242114]\n"
     ]
    }
   ],
   "source": [
    "var3 = np.random.ranf(4) #The function rand generates the random numbers b\\w (0-1)  1 is exclusive\n",
    "print(var3)"
   ]
  },
  {
   "cell_type": "code",
   "execution_count": 33,
   "id": "e24828f1",
   "metadata": {},
   "outputs": [
    {
     "name": "stdout",
     "output_type": "stream",
     "text": [
      "[4 4 5 4 6]\n"
     ]
    }
   ],
   "source": [
    "var4 = np.random.randint(1,10,5)\n",
    "print(var4)\n",
    "\n"
   ]
  }
 ],
 "metadata": {
  "kernelspec": {
   "display_name": "Python 3",
   "language": "python",
   "name": "python3"
  },
  "language_info": {
   "codemirror_mode": {
    "name": "ipython",
    "version": 3
   },
   "file_extension": ".py",
   "mimetype": "text/x-python",
   "name": "python",
   "nbconvert_exporter": "python",
   "pygments_lexer": "ipython3",
   "version": "3.13.3"
  }
 },
 "nbformat": 4,
 "nbformat_minor": 5
}
